{
  "nbformat": 4,
  "nbformat_minor": 0,
  "metadata": {
    "colab": {
      "name": "GMM_Experiment.ipynb",
      "provenance": [],
      "collapsed_sections": [],
      "include_colab_link": true
    },
    "kernelspec": {
      "name": "python3",
      "display_name": "Python 3"
    }
  },
  "cells": [
    {
      "cell_type": "markdown",
      "metadata": {
        "id": "view-in-github",
        "colab_type": "text"
      },
      "source": [
        "<a href=\"https://colab.research.google.com/github/elsa9421/GMM_Live_plotting/blob/master/GMM_Experiment_latest.ipynb\" target=\"_parent\"><img src=\"https://colab.research.google.com/assets/colab-badge.svg\" alt=\"Open In Colab\"/></a>"
      ]
    },
    {
      "cell_type": "code",
      "metadata": {
        "id": "s-sKFT4FngtT",
        "colab_type": "code",
        "colab": {}
      },
      "source": [
        "#pip install PyQt5"
      ],
      "execution_count": 0,
      "outputs": []
    },
    {
      "cell_type": "code",
      "metadata": {
        "id": "4Nx3S7mNWPsu",
        "colab_type": "code",
        "colab": {}
      },
      "source": [
        "import numpy as np\n",
        "from math import pi,cos,sin,sqrt, log\n",
        "import random             #to use random.random()\n",
        "%matplotlib inline\n",
        "\n",
        "import matplotlib.pyplot as plt\n",
        "import sys\n",
        "from scipy.stats.distributions import chi2   #chi2.ppf(0.975, df=2)\n",
        "from IPython import display\n",
        "import time\n",
        "import copy\n",
        "#from IPython import get_ipython\n",
        "#get_ipython().run_line_magic('matplotlib', 'qt')"
      ],
      "execution_count": 0,
      "outputs": []
    },
    {
      "cell_type": "markdown",
      "metadata": {
        "id": "eA2_zCrvedAv",
        "colab_type": "text"
      },
      "source": [
        "## Function to generate multivariate Gaussian distribution with given mean and covariance.\n",
        "\n",
        "A random vector $X = (X1, X2,..., Xn)^T$ is said to follow a multivariate normal distribution with mean μ and covariance matrix $Σ$ if $X$ can be expressed as\n",
        "$X = AZ + μ$,\n",
        "where Σ = $AA^T$ and $Z = (Z1,Z2,...,Zn)$ with $Z_i, i = 1, 2,...,n$ iid $N(0, 1)$\n",
        "variables.\n",
        "\n"
      ]
    },
    {
      "cell_type": "code",
      "metadata": {
        "id": "MI7gWFsea10S",
        "colab_type": "code",
        "colab": {}
      },
      "source": [
        "def mvg(N,d,mu,covarm):\n",
        "  '''\n",
        "    USAGE x=mvg(N,d,mu,covarm)\n",
        "\n",
        "    Generate samples froma multivariate Gaussian distribution with given mean\n",
        "    and covariance.\n",
        "    \n",
        "    Input:\n",
        "    -N: Number of samples to generate, of type <class, 'int'>\n",
        "    -d: data dimension, of type <class,'int'>\n",
        "    -mu: mean, of shape(d,)\n",
        "    covarm: covariance matrix, of shape (d,d)\n",
        "    \n",
        "    Output:\n",
        "    -x: the function mvg returns an output array of shape (d,N)\n",
        "\n",
        "   Example: Generate 100 samples from a 2 dimensional multivariate Gaussian \n",
        "   distribution with a mean of [5,6]' and a covariance matrix of [3,0;0,8]:\n",
        "   x=mvg(100,2,[5,6]',[3,0;0,8])\n",
        "   \n",
        "   '''\n",
        "   \n",
        "   \n",
        "   \n",
        "  z=np.random.randn(d,N) #generate independent samples from normal distribution (i.e N(0,1))\n",
        "\n",
        "  eigVal, eigVec = np.linalg.eig(covarm)\n",
        "\n",
        "   # apply whitening matrix\n",
        "   #x=eigVec*sqrt(eigVal)*z + repmat(mu,[1,N]);\n",
        "  x=np.dot(np.dot(eigVec,np.sqrt(np.diag(eigVal))),z) + mu.reshape(-1,1)\n",
        "  return x\n",
        "    \n",
        "  "
      ],
      "execution_count": 0,
      "outputs": []
    },
    {
      "cell_type": "code",
      "metadata": {
        "id": "s_u-XUQ4iJ0w",
        "colab_type": "code",
        "colab": {}
      },
      "source": [
        "def gen_gmm(n):\n",
        "  ''' The function generates 2D Gaussian Mixture Data \n",
        "      \n",
        "      Input:\n",
        "      -n : sample size, of type <class,'int'>\n",
        "\n",
        "      Output:\n",
        "      -x: of shape(2,n)\n",
        "  '''\n",
        "  # Number of Components\n",
        "  K=3 \n",
        "  w=np.array([.3,.4,.3])\n",
        "  #dictionary of numpy array, each of shape (2,)\n",
        "  mu={0:np.array([0,2]), 1:np.array([1,-3]), 2:np.array([5,0]) } \n",
        "  \n",
        "  theta=pi/8\n",
        "  G=np.array([[cos(theta),-sin(theta)],[sin(theta),cos(theta)]])\n",
        "  \n",
        "  Sig={} #Dictionary for sigma values\n",
        "  Sig[0]=np.dot(G,np.dot(np.array([[5,0],[0,.1]]),G.conj().T))  #G*[5 0; 0 .1]*G'\n",
        "  theta = 3*pi/4; \n",
        "  G=np.array([[cos(theta),-sin(theta)],[sin(theta),cos(theta)]])\n",
        "  Sig[1]=np.dot(G,np.dot(np.array([[3,0],[0,.5]]),G.conj().T))  #G*[3 0; 0 .5]*G'\n",
        "  Sig[2]=np.array([[1,0],[0,4]])\n",
        "\n",
        "  \n",
        "  x1 = mvg(n,2,mu[0],Sig[0])\n",
        "  x2 = mvg(n,2,mu[1],Sig[1])\n",
        "  x3 = mvg(n,2,mu[2],Sig[2])\n",
        "\n",
        "  x=np.zeros((2,n))\n",
        "  for i in range(n):\n",
        "  # select a component at random\n",
        "    u=random.random()\n",
        "    if u < w[0]:\n",
        "      x[:,i] = x1[:,i];\n",
        "    elif u < w[0] + w[1]:\n",
        "      x[:,i] = x2[:,i]\n",
        "    else:\n",
        "      x[:,i] = x3[:,i]\n",
        "\n",
        "  return x\n"
      ],
      "execution_count": 0,
      "outputs": []
    },
    {
      "cell_type": "code",
      "metadata": {
        "id": "LLVrp8wR1SCy",
        "colab_type": "code",
        "colab": {}
      },
      "source": [
        "def mvgpdf(x,mu,Sig):\n",
        "  '''\n",
        "  Evaluate Multivariate Gaussian pdf\n",
        "  \n",
        "  return\n",
        "  #v = (2*pi)^(-d/2)*(det(Sig)^(-1/2))*exp(-.5*diag((x-repmat(mu,1,n))'*inv(Sig)*(x-repmat(mu,1,n))))';\n",
        "  '''\n",
        "  if x.shape==(x.shape[0],):\n",
        "    x=x.reshape(-1,1)\n",
        "  d,n=x.shape[0],x.shape[1]\n",
        "  detSig=np.linalg.det(Sig)\n",
        "  const=(2*pi)**(-d/2)*(detSig**(-1/2))\n",
        "  invSig=np.linalg.inv(Sig)\n",
        "  x_minus_mu=x-mu.reshape(-1,1)\n",
        "  D=np.dot(np.dot(x_minus_mu.conj().T,invSig),x_minus_mu)\n",
        "  term2=np.exp(-.5*np.diag(D)).conj().T\n",
        "\n",
        "  #v = (2*pi)^(-d/2)*(det(Sig)^(-1/2))*exp(-.5*diag((x-repmat(mu,1,n))'*inv(Sig)*(x-repmat(mu,1,n))))';\n",
        "\n",
        "  \n",
        "  return const*term2\n"
      ],
      "execution_count": 0,
      "outputs": []
    },
    {
      "cell_type": "code",
      "metadata": {
        "id": "-7TJckKLn8Dc",
        "colab_type": "code",
        "colab": {}
      },
      "source": [
        "def train_gmm(x,K,niter=200):\n",
        "  '''\n",
        "  Description:\n",
        "  - To train GMM with EM algorithm\n",
        "\n",
        "  Input:\n",
        "  -x : 2D Gaussian Mixture Data from gen_gmm\n",
        "  -K : number of clusters\n",
        "  -niter: no of iterations of EM \n",
        "\n",
        "  Output:\n",
        "  -w:  computed weights\n",
        "  -mu: computed mean of each cluster\n",
        "  -Sig: computed Covariance matrix of each cluster\n",
        "  -ll: Log-likelihood for each iteration\n",
        "\n",
        "    '''\n",
        "  \n",
        "  d,n=x.shape\n",
        "\n",
        "  #initialize\n",
        "\n",
        "  w=1/K*np.ones((K,))   # np.kron(np.ones((3,)), 1/3) is the python equivalent of repmat(1/3,[1,3])\n",
        "  p=np.random.permutation(n)  # randomly permute np.arange(x). \n",
        "  s=np.std(x,ddof=1)    #https://stackoverflow.com/questions/27600207/why-does-numpy-std-give-a-different-result-to-matlab-std\n",
        "  mu={}\n",
        "  Sig={}\n",
        "  iter1=0\n",
        "  #plt.figure(figsize=(7,7))\n",
        "  \n",
        "  \n",
        "  for k in range(K):\n",
        "    mu[k]=x[:,p[k]]\n",
        "    Sig[k]=np.identity(2)*s\n",
        "  \n",
        "  mu_plot=copy.deepcopy(mu)\n",
        "  Sig_plot=copy.deepcopy(Sig)\n",
        "  \n",
        "  \n",
        "\n",
        "  # Plot Data and initial estimate\n",
        "\n",
        "\n",
        "\n",
        "  # plt.figure(figsize=(7,7))\n",
        "  # plt.title('Iter={}, w={}'.format(iter1,w), fontsize=16)\n",
        "  # plt.plot(x[0,:],x[1,:],'o')\n",
        "  # for k in range(K):\n",
        "  #     z = plot_ellipse(mu[k],Sig[k])\n",
        "  #     plt.plot(z[0,:],z[1,:])\n",
        "  \n",
        "      #axes[0].plot(z[0,:],z[1,:])\n",
        "  \n",
        "  \n",
        "   \n",
        " \n",
        "\n",
        "  # EM Algorithm\n",
        "  gam=np.zeros((K,n))\n",
        "  ll=np.zeros((niter,))\n",
        "  \n",
        "\n",
        "  plt.figure(figsize=(7,7))\n",
        "  \n",
        "  for iter1 in range(niter):\n",
        "      \n",
        "    #E Step\n",
        "    for k in range(K):\n",
        "      gam[k,:]=w[k]*mvgpdf(x,mu[k],Sig[k])\n",
        "\n",
        "    gam=np.divide(gam,np.sum(gam,axis=0))\n",
        "\n",
        "    # M step\n",
        "\n",
        "    for k in range(K):\n",
        "      mu[k]= np.divide(np.sum(np.multiply(gam[k,:],x),axis=1),np.sum(gam[k,:]))\n",
        "      Sig[k]=np.zeros((d,d))\n",
        "      for i in range(n):\n",
        "        Sig[k]=Sig[k]+(gam[k,i]*np.outer(x[:,i]-mu[k],x[:,i]-mu[k]))\n",
        "      Sig[k]=np.divide(Sig[k],np.sum(gam[k,:]))\n",
        "      w[k]=np.sum(gam[k,:])/n\n",
        "    \n",
        "    #compute Log-likelihood\n",
        "  \n",
        "\n",
        "    ll[iter1]=0\n",
        "  \n",
        "    for i in range(n):\n",
        "      tmp=0\n",
        "      for k in range(K):\n",
        "        \n",
        "        tmp+=w[k]*mvgpdf(x[:,i],mu[k],Sig[k])\n",
        "      ll[iter1]=ll[iter1]+log(tmp)\n",
        "    \n",
        "    #Plot contours and data\n",
        "    plt.clf()\n",
        "   # axes[1].title('Iter={}, w={}'.format(iter1,w), fontsize=14)\n",
        "   # axes[1].plot(x[0,:],x[1,:],'o')\n",
        "    \n",
        "    plt.title('Iter={}, w={}'.format(iter1,w), fontsize=16)\n",
        "    plt.plot(x[0,:],x[1,:],'o')\n",
        "    \n",
        "    for k in range(K):\n",
        "      z=plot_ellipse(mu[k],Sig[k])\n",
        "      plt.plot(z[0,:],z[1,:])\n",
        "      #axes[1].plot(z[0,:],z[1,:])\n",
        "    \n",
        "    \n",
        "    display.display(plt.gcf())\n",
        "    display.clear_output(wait=True)\n",
        "    \n",
        "    #display.display(plt.pause(0.05))\n",
        "    #time.sleep(0.05)\n",
        "\n",
        "    \n",
        "    \n",
        "    if iter1 > 1 and (ll[iter1] - ll[iter1-1]) < .001:\n",
        "        break\n",
        "  \n",
        "  #plt.show()  \n",
        "\n",
        "  #fig, axes = plt.subplots(nrows=1, ncols=2, figsize=(16, 16))\n",
        " \n",
        "\n",
        "  #Plot Data and initial estimate\n",
        "\n",
        "  # w1=1/K*np.ones((K,))\n",
        "  # plt.title('Iter={}, w={}'.format(iter1,w), fontsize=16)\n",
        "  # axes[0].set_title('Iter=0, w={}'.format(w1), fontsize=12)\n",
        "  # axes[0].plot(x[0,:],x[1,:],'o')\n",
        "  # axes[0].set(aspect='equal')\n",
        "  # for k in range(K):\n",
        "  #     z = plot_ellipse(mu_plot[k],Sig_plot[k])\n",
        "  #     axes[0].plot(z[0,:],z[1,:])\n",
        "  #     axes[0].set( aspect='equal')\n",
        "\n",
        "  #Plot Data and final estimate\n",
        "  \n",
        "  # axes[1].set_title('Iter={}, w={}'.format(iter1,w), fontsize=12)\n",
        "  # axes[1].plot(x[0,:],x[1,:],'o')\n",
        "  # axes[1].set( aspect='equal')\n",
        "  # for k in range(K):\n",
        "  #     z=plot_ellipse(mu[k],Sig[k])\n",
        "  #     axes[1].plot(z[0,:],z[1,:])\n",
        "  #     axes[1].set(aspect='equal')\n",
        "  # #fig.tight_layout()\n",
        "    \n",
        "  return w,mu,Sig,ll,iter1\n"
      ],
      "execution_count": 0,
      "outputs": []
    },
    {
      "cell_type": "code",
      "metadata": {
        "id": "DCDzYV78J_lE",
        "colab_type": "code",
        "colab": {}
      },
      "source": [
        "def plot_ellipse(m,S):\n",
        "  '''\n",
        "  Plot an Elliptical contour of a bivariate Gaussian density\n",
        "\n",
        "  Input:\n",
        "  -m:mean\n",
        "  -S:covariance matrix\n",
        "\n",
        "  Output:\n",
        "  -z : ellipse boundary points for plotting using\n",
        "      >> plot(z[0,:],z[1,:])\n",
        "  '''\n",
        "\n",
        "  d=len(m)\n",
        "  if d!=2:\n",
        "    sys.exit(\"Plot ellipse assumes 2D data\")\n",
        "  \n",
        "  #beta= theoretical mass enclosed\n",
        "  beta=.9\n",
        "  r=sqrt(chi2.ppf(beta, df=2))\n",
        "\n",
        "  #Plot circle\n",
        "  N=500\n",
        "  t=np.linspace(0,2*pi,N+1)[:-1]\n",
        "  u=r*np.array([np.cos(t),np.sin(t)])\n",
        "  eigVal, eigVec = np.linalg.eig(S)\n",
        "\n",
        "  z=np.dot(np.dot(eigVec,np.sqrt(np.diag(eigVal))),u) + m.reshape(-1,1)\n",
        "\n",
        "  return z\n"
      ],
      "execution_count": 0,
      "outputs": []
    },
    {
      "cell_type": "code",
      "metadata": {
        "id": "0gfr90cD_kmf",
        "colab_type": "code",
        "outputId": "f7e78318-ff10-4066-bfd1-8ff0e1f0f529",
        "colab": {
          "base_uri": "https://localhost:8080/",
          "height": 892
        }
      },
      "source": [
        "def main():\n",
        "  '''\n",
        "  main routine for GMM experiment\n",
        "  '''\n",
        "\n",
        "  x = gen_gmm(500);\n",
        "  #plt.figure(figsize=(7,7))\n",
        "  \n",
        "  #plt.title(\"Generated 2D Gaussian Mixture Data\",fontsize=16)\n",
        "  #plt.plot(x[0,:], x[1,:], 'o')\n",
        "  plt.figure()\n",
        "  w,mu,Sig,ll,iter1 = train_gmm(x,3,niter=200)   \n",
        "\n",
        "  \n",
        "  plt.figure(figsize=(7,7))\n",
        "  plt.title(\"Log Likelihood\",fontsize=16)\n",
        "  plt.plot(ll[:iter1+1])\n",
        "\n",
        "\n",
        "main()\n"
      ],
      "execution_count": 10,
      "outputs": [
        {
          "output_type": "display_data",
          "data": {
            "text/plain": [
              "<Figure size 432x288 with 0 Axes>"
            ]
          },
          "metadata": {
            "tags": []
          }
        },
        {
          "output_type": "display_data",
          "data": {
            "image/png": "[encoded data removed]",
            "text/plain": [
              "<Figure size 504x504 with 1 Axes>"
            ]
          },
          "metadata": {
            "tags": [],
            "needs_background": "light"
          }
        },
        {
          "output_type": "display_data",
          "data": {
            "image/png": "[encoded data removed]",
            "text/plain": [
              "<Figure size 504x504 with 1 Axes>"
            ]
          },
          "metadata": {
            "tags": [],
            "needs_background": "light"
          }
        }
      ]
    }
  ]
}